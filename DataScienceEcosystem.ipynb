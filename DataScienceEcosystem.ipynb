{
  "metadata": {
    "language_info": {
      "codemirror_mode": {
        "name": "python",
        "version": 3
      },
      "file_extension": ".py",
      "mimetype": "text/x-python",
      "name": "python",
      "nbconvert_exporter": "python",
      "pygments_lexer": "ipython3",
      "version": "3.8"
    },
    "kernelspec": {
      "name": "python",
      "display_name": "Python (Pyodide)",
      "language": "python"
    }
  },
  "nbformat_minor": 4,
  "nbformat": 4,
  "cells": [
    {
      "cell_type": "markdown",
      "source": "# Data Science Tools and Ecosystem",
      "metadata": {}
    },
    {
      "cell_type": "markdown",
      "source": "In this notebook, Data Science tools and Ecosystem are summarized.",
      "metadata": {}
    },
    {
      "cell_type": "markdown",
      "source": "**Objectives**",
      "metadata": {}
    },
    {
      "cell_type": "markdown",
      "source": "- Installed Kernels in the Jupyter environment",
      "metadata": {}
    },
    {
      "cell_type": "markdown",
      "source": "- The operation of Jupyter architecture",
      "metadata": {}
    },
    {
      "cell_type": "markdown",
      "source": "- Popular cloud-based environments to create and modify Jupyter notebooks",
      "metadata": {}
    },
    {
      "cell_type": "markdown",
      "source": "Some of the popular languages that Data scientists use are:",
      "metadata": {}
    },
    {
      "cell_type": "markdown",
      "source": "1. Python",
      "metadata": {}
    },
    {
      "cell_type": "markdown",
      "source": "2. R",
      "metadata": {}
    },
    {
      "cell_type": "markdown",
      "source": "3. SQL",
      "metadata": {}
    },
    {
      "cell_type": "markdown",
      "source": "4. Scala",
      "metadata": {}
    },
    {
      "cell_type": "markdown",
      "source": "5. Java",
      "metadata": {}
    },
    {
      "cell_type": "markdown",
      "source": "6. C++ ",
      "metadata": {}
    },
    {
      "cell_type": "markdown",
      "source": "7. Julia",
      "metadata": {}
    },
    {
      "cell_type": "markdown",
      "source": "Some of the commonly used libraries used by Data Scientists include:",
      "metadata": {}
    },
    {
      "cell_type": "markdown",
      "source": "1. Pandas",
      "metadata": {}
    },
    {
      "cell_type": "markdown",
      "source": "2. NumPy",
      "metadata": {}
    },
    {
      "cell_type": "markdown",
      "source": "3. Matplotlib",
      "metadata": {}
    },
    {
      "cell_type": "markdown",
      "source": "4. Seaborn",
      "metadata": {}
    },
    {
      "cell_type": "markdown",
      "source": "5. Scikit-learn library",
      "metadata": {}
    },
    {
      "cell_type": "markdown",
      "source": "6. Keras",
      "metadata": {}
    },
    {
      "cell_type": "markdown",
      "source": "7. TensorFlow",
      "metadata": {}
    },
    {
      "cell_type": "markdown",
      "source": "8. Pytorch",
      "metadata": {}
    },
    {
      "cell_type": "markdown",
      "source": "|Data Science Tools|\n|------------------|\n|Jupyter|\n|Apache Zeppelin|\n|RStudio|",
      "metadata": {}
    },
    {
      "cell_type": "markdown",
      "source": "### Below are a few examples of evaluating arithmetic expressions in Python",
      "metadata": {
        "tags": []
      }
    },
    {
      "cell_type": "markdown",
      "source": "This is a simple aritmetic expression to multiply and then add integers",
      "metadata": {}
    },
    {
      "cell_type": "code",
      "source": "print((3*4)+5)",
      "metadata": {},
      "execution_count": null,
      "outputs": [
        {
          "name": "stdout",
          "text": "17\n",
          "output_type": "stream"
        }
      ]
    },
    {
      "cell_type": "markdown",
      "source": "This will convert minutes to hours by dividing by 60",
      "metadata": {}
    },
    {
      "cell_type": "code",
      "source": "print(200/60)",
      "metadata": {
        "trusted": true
      },
      "execution_count": 5,
      "outputs": [
        {
          "name": "stdout",
          "text": "3.3333333333333335\n",
          "output_type": "stream"
        }
      ]
    },
    {
      "cell_type": "markdown",
      "source": "## Author",
      "metadata": {}
    },
    {
      "cell_type": "markdown",
      "source": "_Eleftherios Nikolopoulos_",
      "metadata": {}
    }
  ]
}